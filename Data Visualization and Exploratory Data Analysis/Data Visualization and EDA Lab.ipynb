{
 "cells": [
  {
   "cell_type": "markdown",
   "metadata": {},
   "source": [
    "#### python libraries"
   ]
  },
  {
   "cell_type": "code",
   "execution_count": 1,
   "metadata": {},
   "outputs": [],
   "source": [
    "%matplotlib inline\n",
    "import pandas as pd\n",
    "import numpy as np\n",
    "import matplotlib.pyplot as plt\n",
    "import nose.tools"
   ]
  },
  {
   "cell_type": "markdown",
   "metadata": {},
   "source": [
    "#### plot style"
   ]
  },
  {
   "cell_type": "code",
   "execution_count": 2,
   "metadata": {},
   "outputs": [],
   "source": [
    "plt.style.use('fivethirtyeight')"
   ]
  },
  {
   "cell_type": "markdown",
   "metadata": {},
   "source": [
    "# Data Visualization and Exploratory Data Analysis Lab\n",
    "## Visualizing and exploring data. Data mining process as a whole"
   ]
  },
  {
   "cell_type": "markdown",
   "metadata": {},
   "source": [
    "### Problem 1. Read the dataset (1 point)\n",
    "You'll be exploring data about people's income. Your task is to understand whether there are significant differences in the lifestyle of lower- vs. higher-income groups.\n",
    "\n",
    "Read the dataset located [here](https://archive.ics.uci.edu/ml/machine-learning-databases/adult/adult.data). The information file is [here](https://archive.ics.uci.edu/ml/machine-learning-databases/adult/adult.names). Save it into the variable `income_data`. Change the column names to what you like. The last column is related to the income class.\n",
    "\n",
    "Get acquainted with the information file well before starting work.\n",
    "\n",
    "You don't need to clean the dataset."
   ]
  },
  {
   "cell_type": "markdown",
   "metadata": {},
   "source": [
    "#### read the given dataset"
   ]
  },
  {
   "cell_type": "code",
   "execution_count": 3,
   "metadata": {
    "deletable": false,
    "nbgrader": {
     "checksum": "1100e6bb30ef5be00db508ca1f24d75c",
     "grade": false,
     "grade_id": "read-dataset",
     "locked": false,
     "schema_version": 1,
     "solution": true
    }
   },
   "outputs": [
    {
     "data": {
      "text/html": [
       "<div>\n",
       "<style scoped>\n",
       "    .dataframe tbody tr th:only-of-type {\n",
       "        vertical-align: middle;\n",
       "    }\n",
       "\n",
       "    .dataframe tbody tr th {\n",
       "        vertical-align: top;\n",
       "    }\n",
       "\n",
       "    .dataframe thead th {\n",
       "        text-align: right;\n",
       "    }\n",
       "</style>\n",
       "<table border=\"1\" class=\"dataframe\">\n",
       "  <thead>\n",
       "    <tr style=\"text-align: right;\">\n",
       "      <th></th>\n",
       "      <th>0</th>\n",
       "      <th>1</th>\n",
       "      <th>2</th>\n",
       "      <th>3</th>\n",
       "      <th>4</th>\n",
       "      <th>5</th>\n",
       "      <th>6</th>\n",
       "      <th>7</th>\n",
       "      <th>8</th>\n",
       "      <th>9</th>\n",
       "      <th>10</th>\n",
       "      <th>11</th>\n",
       "      <th>12</th>\n",
       "      <th>13</th>\n",
       "      <th>14</th>\n",
       "    </tr>\n",
       "  </thead>\n",
       "  <tbody>\n",
       "    <tr>\n",
       "      <th>0</th>\n",
       "      <td>39</td>\n",
       "      <td>State-gov</td>\n",
       "      <td>77516</td>\n",
       "      <td>Bachelors</td>\n",
       "      <td>13</td>\n",
       "      <td>Never-married</td>\n",
       "      <td>Adm-clerical</td>\n",
       "      <td>Not-in-family</td>\n",
       "      <td>White</td>\n",
       "      <td>Male</td>\n",
       "      <td>2174</td>\n",
       "      <td>0</td>\n",
       "      <td>40</td>\n",
       "      <td>United-States</td>\n",
       "      <td>&lt;=50K</td>\n",
       "    </tr>\n",
       "    <tr>\n",
       "      <th>1</th>\n",
       "      <td>50</td>\n",
       "      <td>Self-emp-not-inc</td>\n",
       "      <td>83311</td>\n",
       "      <td>Bachelors</td>\n",
       "      <td>13</td>\n",
       "      <td>Married-civ-spouse</td>\n",
       "      <td>Exec-managerial</td>\n",
       "      <td>Husband</td>\n",
       "      <td>White</td>\n",
       "      <td>Male</td>\n",
       "      <td>0</td>\n",
       "      <td>0</td>\n",
       "      <td>13</td>\n",
       "      <td>United-States</td>\n",
       "      <td>&lt;=50K</td>\n",
       "    </tr>\n",
       "    <tr>\n",
       "      <th>2</th>\n",
       "      <td>38</td>\n",
       "      <td>Private</td>\n",
       "      <td>215646</td>\n",
       "      <td>HS-grad</td>\n",
       "      <td>9</td>\n",
       "      <td>Divorced</td>\n",
       "      <td>Handlers-cleaners</td>\n",
       "      <td>Not-in-family</td>\n",
       "      <td>White</td>\n",
       "      <td>Male</td>\n",
       "      <td>0</td>\n",
       "      <td>0</td>\n",
       "      <td>40</td>\n",
       "      <td>United-States</td>\n",
       "      <td>&lt;=50K</td>\n",
       "    </tr>\n",
       "    <tr>\n",
       "      <th>3</th>\n",
       "      <td>53</td>\n",
       "      <td>Private</td>\n",
       "      <td>234721</td>\n",
       "      <td>11th</td>\n",
       "      <td>7</td>\n",
       "      <td>Married-civ-spouse</td>\n",
       "      <td>Handlers-cleaners</td>\n",
       "      <td>Husband</td>\n",
       "      <td>Black</td>\n",
       "      <td>Male</td>\n",
       "      <td>0</td>\n",
       "      <td>0</td>\n",
       "      <td>40</td>\n",
       "      <td>United-States</td>\n",
       "      <td>&lt;=50K</td>\n",
       "    </tr>\n",
       "    <tr>\n",
       "      <th>4</th>\n",
       "      <td>28</td>\n",
       "      <td>Private</td>\n",
       "      <td>338409</td>\n",
       "      <td>Bachelors</td>\n",
       "      <td>13</td>\n",
       "      <td>Married-civ-spouse</td>\n",
       "      <td>Prof-specialty</td>\n",
       "      <td>Wife</td>\n",
       "      <td>Black</td>\n",
       "      <td>Female</td>\n",
       "      <td>0</td>\n",
       "      <td>0</td>\n",
       "      <td>40</td>\n",
       "      <td>Cuba</td>\n",
       "      <td>&lt;=50K</td>\n",
       "    </tr>\n",
       "    <tr>\n",
       "      <th>...</th>\n",
       "      <td>...</td>\n",
       "      <td>...</td>\n",
       "      <td>...</td>\n",
       "      <td>...</td>\n",
       "      <td>...</td>\n",
       "      <td>...</td>\n",
       "      <td>...</td>\n",
       "      <td>...</td>\n",
       "      <td>...</td>\n",
       "      <td>...</td>\n",
       "      <td>...</td>\n",
       "      <td>...</td>\n",
       "      <td>...</td>\n",
       "      <td>...</td>\n",
       "      <td>...</td>\n",
       "    </tr>\n",
       "    <tr>\n",
       "      <th>32556</th>\n",
       "      <td>27</td>\n",
       "      <td>Private</td>\n",
       "      <td>257302</td>\n",
       "      <td>Assoc-acdm</td>\n",
       "      <td>12</td>\n",
       "      <td>Married-civ-spouse</td>\n",
       "      <td>Tech-support</td>\n",
       "      <td>Wife</td>\n",
       "      <td>White</td>\n",
       "      <td>Female</td>\n",
       "      <td>0</td>\n",
       "      <td>0</td>\n",
       "      <td>38</td>\n",
       "      <td>United-States</td>\n",
       "      <td>&lt;=50K</td>\n",
       "    </tr>\n",
       "    <tr>\n",
       "      <th>32557</th>\n",
       "      <td>40</td>\n",
       "      <td>Private</td>\n",
       "      <td>154374</td>\n",
       "      <td>HS-grad</td>\n",
       "      <td>9</td>\n",
       "      <td>Married-civ-spouse</td>\n",
       "      <td>Machine-op-inspct</td>\n",
       "      <td>Husband</td>\n",
       "      <td>White</td>\n",
       "      <td>Male</td>\n",
       "      <td>0</td>\n",
       "      <td>0</td>\n",
       "      <td>40</td>\n",
       "      <td>United-States</td>\n",
       "      <td>&gt;50K</td>\n",
       "    </tr>\n",
       "    <tr>\n",
       "      <th>32558</th>\n",
       "      <td>58</td>\n",
       "      <td>Private</td>\n",
       "      <td>151910</td>\n",
       "      <td>HS-grad</td>\n",
       "      <td>9</td>\n",
       "      <td>Widowed</td>\n",
       "      <td>Adm-clerical</td>\n",
       "      <td>Unmarried</td>\n",
       "      <td>White</td>\n",
       "      <td>Female</td>\n",
       "      <td>0</td>\n",
       "      <td>0</td>\n",
       "      <td>40</td>\n",
       "      <td>United-States</td>\n",
       "      <td>&lt;=50K</td>\n",
       "    </tr>\n",
       "    <tr>\n",
       "      <th>32559</th>\n",
       "      <td>22</td>\n",
       "      <td>Private</td>\n",
       "      <td>201490</td>\n",
       "      <td>HS-grad</td>\n",
       "      <td>9</td>\n",
       "      <td>Never-married</td>\n",
       "      <td>Adm-clerical</td>\n",
       "      <td>Own-child</td>\n",
       "      <td>White</td>\n",
       "      <td>Male</td>\n",
       "      <td>0</td>\n",
       "      <td>0</td>\n",
       "      <td>20</td>\n",
       "      <td>United-States</td>\n",
       "      <td>&lt;=50K</td>\n",
       "    </tr>\n",
       "    <tr>\n",
       "      <th>32560</th>\n",
       "      <td>52</td>\n",
       "      <td>Self-emp-inc</td>\n",
       "      <td>287927</td>\n",
       "      <td>HS-grad</td>\n",
       "      <td>9</td>\n",
       "      <td>Married-civ-spouse</td>\n",
       "      <td>Exec-managerial</td>\n",
       "      <td>Wife</td>\n",
       "      <td>White</td>\n",
       "      <td>Female</td>\n",
       "      <td>15024</td>\n",
       "      <td>0</td>\n",
       "      <td>40</td>\n",
       "      <td>United-States</td>\n",
       "      <td>&gt;50K</td>\n",
       "    </tr>\n",
       "  </tbody>\n",
       "</table>\n",
       "<p>32561 rows × 15 columns</p>\n",
       "</div>"
      ],
      "text/plain": [
       "       0                 1       2           3   4                   5   \\\n",
       "0      39         State-gov   77516   Bachelors  13       Never-married   \n",
       "1      50  Self-emp-not-inc   83311   Bachelors  13  Married-civ-spouse   \n",
       "2      38           Private  215646     HS-grad   9            Divorced   \n",
       "3      53           Private  234721        11th   7  Married-civ-spouse   \n",
       "4      28           Private  338409   Bachelors  13  Married-civ-spouse   \n",
       "...    ..               ...     ...         ...  ..                 ...   \n",
       "32556  27           Private  257302  Assoc-acdm  12  Married-civ-spouse   \n",
       "32557  40           Private  154374     HS-grad   9  Married-civ-spouse   \n",
       "32558  58           Private  151910     HS-grad   9             Widowed   \n",
       "32559  22           Private  201490     HS-grad   9       Never-married   \n",
       "32560  52      Self-emp-inc  287927     HS-grad   9  Married-civ-spouse   \n",
       "\n",
       "                      6              7      8       9      10  11  12  \\\n",
       "0           Adm-clerical  Not-in-family  White    Male   2174   0  40   \n",
       "1        Exec-managerial        Husband  White    Male      0   0  13   \n",
       "2      Handlers-cleaners  Not-in-family  White    Male      0   0  40   \n",
       "3      Handlers-cleaners        Husband  Black    Male      0   0  40   \n",
       "4         Prof-specialty           Wife  Black  Female      0   0  40   \n",
       "...                  ...            ...    ...     ...    ...  ..  ..   \n",
       "32556       Tech-support           Wife  White  Female      0   0  38   \n",
       "32557  Machine-op-inspct        Husband  White    Male      0   0  40   \n",
       "32558       Adm-clerical      Unmarried  White  Female      0   0  40   \n",
       "32559       Adm-clerical      Own-child  White    Male      0   0  20   \n",
       "32560    Exec-managerial           Wife  White  Female  15024   0  40   \n",
       "\n",
       "                  13     14  \n",
       "0      United-States  <=50K  \n",
       "1      United-States  <=50K  \n",
       "2      United-States  <=50K  \n",
       "3      United-States  <=50K  \n",
       "4               Cuba  <=50K  \n",
       "...              ...    ...  \n",
       "32556  United-States  <=50K  \n",
       "32557  United-States   >50K  \n",
       "32558  United-States  <=50K  \n",
       "32559  United-States  <=50K  \n",
       "32560  United-States   >50K  \n",
       "\n",
       "[32561 rows x 15 columns]"
      ]
     },
     "execution_count": 3,
     "metadata": {},
     "output_type": "execute_result"
    }
   ],
   "source": [
    "income_data = pd.read_csv('data/adult.data',sep=r',\\s+', header=None,engine='python')\n",
    "income_data"
   ]
  },
  {
   "cell_type": "markdown",
   "metadata": {},
   "source": [
    "#### specify column names for better orientation in the dataset"
   ]
  },
  {
   "cell_type": "code",
   "execution_count": 4,
   "metadata": {},
   "outputs": [],
   "source": [
    "income_data.columns = [\n",
    "    'age',\n",
    "    'workclass',\n",
    "    'fnlwgt',\n",
    "    'edu',\n",
    "    'edu_n',\n",
    "    'marital_stat',\n",
    "    'occ',\n",
    "    'relp',\n",
    "    'race',\n",
    "    'sex',\n",
    "    'gains',\n",
    "    'losses',\n",
    "    'h_per_week',\n",
    "    'country',\n",
    "    'income_class',\n",
    "]"
   ]
  },
  {
   "cell_type": "markdown",
   "metadata": {},
   "source": [
    "#### show the dataset with the named columns"
   ]
  },
  {
   "cell_type": "code",
   "execution_count": 5,
   "metadata": {},
   "outputs": [
    {
     "data": {
      "text/html": [
       "<div>\n",
       "<style scoped>\n",
       "    .dataframe tbody tr th:only-of-type {\n",
       "        vertical-align: middle;\n",
       "    }\n",
       "\n",
       "    .dataframe tbody tr th {\n",
       "        vertical-align: top;\n",
       "    }\n",
       "\n",
       "    .dataframe thead th {\n",
       "        text-align: right;\n",
       "    }\n",
       "</style>\n",
       "<table border=\"1\" class=\"dataframe\">\n",
       "  <thead>\n",
       "    <tr style=\"text-align: right;\">\n",
       "      <th></th>\n",
       "      <th>age</th>\n",
       "      <th>workclass</th>\n",
       "      <th>fnlwgt</th>\n",
       "      <th>edu</th>\n",
       "      <th>edu_n</th>\n",
       "      <th>marital_stat</th>\n",
       "      <th>occ</th>\n",
       "      <th>relp</th>\n",
       "      <th>race</th>\n",
       "      <th>sex</th>\n",
       "      <th>gains</th>\n",
       "      <th>losses</th>\n",
       "      <th>h_per_week</th>\n",
       "      <th>country</th>\n",
       "      <th>income_class</th>\n",
       "    </tr>\n",
       "  </thead>\n",
       "  <tbody>\n",
       "    <tr>\n",
       "      <th>0</th>\n",
       "      <td>39</td>\n",
       "      <td>State-gov</td>\n",
       "      <td>77516</td>\n",
       "      <td>Bachelors</td>\n",
       "      <td>13</td>\n",
       "      <td>Never-married</td>\n",
       "      <td>Adm-clerical</td>\n",
       "      <td>Not-in-family</td>\n",
       "      <td>White</td>\n",
       "      <td>Male</td>\n",
       "      <td>2174</td>\n",
       "      <td>0</td>\n",
       "      <td>40</td>\n",
       "      <td>United-States</td>\n",
       "      <td>&lt;=50K</td>\n",
       "    </tr>\n",
       "    <tr>\n",
       "      <th>1</th>\n",
       "      <td>50</td>\n",
       "      <td>Self-emp-not-inc</td>\n",
       "      <td>83311</td>\n",
       "      <td>Bachelors</td>\n",
       "      <td>13</td>\n",
       "      <td>Married-civ-spouse</td>\n",
       "      <td>Exec-managerial</td>\n",
       "      <td>Husband</td>\n",
       "      <td>White</td>\n",
       "      <td>Male</td>\n",
       "      <td>0</td>\n",
       "      <td>0</td>\n",
       "      <td>13</td>\n",
       "      <td>United-States</td>\n",
       "      <td>&lt;=50K</td>\n",
       "    </tr>\n",
       "    <tr>\n",
       "      <th>2</th>\n",
       "      <td>38</td>\n",
       "      <td>Private</td>\n",
       "      <td>215646</td>\n",
       "      <td>HS-grad</td>\n",
       "      <td>9</td>\n",
       "      <td>Divorced</td>\n",
       "      <td>Handlers-cleaners</td>\n",
       "      <td>Not-in-family</td>\n",
       "      <td>White</td>\n",
       "      <td>Male</td>\n",
       "      <td>0</td>\n",
       "      <td>0</td>\n",
       "      <td>40</td>\n",
       "      <td>United-States</td>\n",
       "      <td>&lt;=50K</td>\n",
       "    </tr>\n",
       "    <tr>\n",
       "      <th>3</th>\n",
       "      <td>53</td>\n",
       "      <td>Private</td>\n",
       "      <td>234721</td>\n",
       "      <td>11th</td>\n",
       "      <td>7</td>\n",
       "      <td>Married-civ-spouse</td>\n",
       "      <td>Handlers-cleaners</td>\n",
       "      <td>Husband</td>\n",
       "      <td>Black</td>\n",
       "      <td>Male</td>\n",
       "      <td>0</td>\n",
       "      <td>0</td>\n",
       "      <td>40</td>\n",
       "      <td>United-States</td>\n",
       "      <td>&lt;=50K</td>\n",
       "    </tr>\n",
       "    <tr>\n",
       "      <th>4</th>\n",
       "      <td>28</td>\n",
       "      <td>Private</td>\n",
       "      <td>338409</td>\n",
       "      <td>Bachelors</td>\n",
       "      <td>13</td>\n",
       "      <td>Married-civ-spouse</td>\n",
       "      <td>Prof-specialty</td>\n",
       "      <td>Wife</td>\n",
       "      <td>Black</td>\n",
       "      <td>Female</td>\n",
       "      <td>0</td>\n",
       "      <td>0</td>\n",
       "      <td>40</td>\n",
       "      <td>Cuba</td>\n",
       "      <td>&lt;=50K</td>\n",
       "    </tr>\n",
       "    <tr>\n",
       "      <th>...</th>\n",
       "      <td>...</td>\n",
       "      <td>...</td>\n",
       "      <td>...</td>\n",
       "      <td>...</td>\n",
       "      <td>...</td>\n",
       "      <td>...</td>\n",
       "      <td>...</td>\n",
       "      <td>...</td>\n",
       "      <td>...</td>\n",
       "      <td>...</td>\n",
       "      <td>...</td>\n",
       "      <td>...</td>\n",
       "      <td>...</td>\n",
       "      <td>...</td>\n",
       "      <td>...</td>\n",
       "    </tr>\n",
       "    <tr>\n",
       "      <th>32556</th>\n",
       "      <td>27</td>\n",
       "      <td>Private</td>\n",
       "      <td>257302</td>\n",
       "      <td>Assoc-acdm</td>\n",
       "      <td>12</td>\n",
       "      <td>Married-civ-spouse</td>\n",
       "      <td>Tech-support</td>\n",
       "      <td>Wife</td>\n",
       "      <td>White</td>\n",
       "      <td>Female</td>\n",
       "      <td>0</td>\n",
       "      <td>0</td>\n",
       "      <td>38</td>\n",
       "      <td>United-States</td>\n",
       "      <td>&lt;=50K</td>\n",
       "    </tr>\n",
       "    <tr>\n",
       "      <th>32557</th>\n",
       "      <td>40</td>\n",
       "      <td>Private</td>\n",
       "      <td>154374</td>\n",
       "      <td>HS-grad</td>\n",
       "      <td>9</td>\n",
       "      <td>Married-civ-spouse</td>\n",
       "      <td>Machine-op-inspct</td>\n",
       "      <td>Husband</td>\n",
       "      <td>White</td>\n",
       "      <td>Male</td>\n",
       "      <td>0</td>\n",
       "      <td>0</td>\n",
       "      <td>40</td>\n",
       "      <td>United-States</td>\n",
       "      <td>&gt;50K</td>\n",
       "    </tr>\n",
       "    <tr>\n",
       "      <th>32558</th>\n",
       "      <td>58</td>\n",
       "      <td>Private</td>\n",
       "      <td>151910</td>\n",
       "      <td>HS-grad</td>\n",
       "      <td>9</td>\n",
       "      <td>Widowed</td>\n",
       "      <td>Adm-clerical</td>\n",
       "      <td>Unmarried</td>\n",
       "      <td>White</td>\n",
       "      <td>Female</td>\n",
       "      <td>0</td>\n",
       "      <td>0</td>\n",
       "      <td>40</td>\n",
       "      <td>United-States</td>\n",
       "      <td>&lt;=50K</td>\n",
       "    </tr>\n",
       "    <tr>\n",
       "      <th>32559</th>\n",
       "      <td>22</td>\n",
       "      <td>Private</td>\n",
       "      <td>201490</td>\n",
       "      <td>HS-grad</td>\n",
       "      <td>9</td>\n",
       "      <td>Never-married</td>\n",
       "      <td>Adm-clerical</td>\n",
       "      <td>Own-child</td>\n",
       "      <td>White</td>\n",
       "      <td>Male</td>\n",
       "      <td>0</td>\n",
       "      <td>0</td>\n",
       "      <td>20</td>\n",
       "      <td>United-States</td>\n",
       "      <td>&lt;=50K</td>\n",
       "    </tr>\n",
       "    <tr>\n",
       "      <th>32560</th>\n",
       "      <td>52</td>\n",
       "      <td>Self-emp-inc</td>\n",
       "      <td>287927</td>\n",
       "      <td>HS-grad</td>\n",
       "      <td>9</td>\n",
       "      <td>Married-civ-spouse</td>\n",
       "      <td>Exec-managerial</td>\n",
       "      <td>Wife</td>\n",
       "      <td>White</td>\n",
       "      <td>Female</td>\n",
       "      <td>15024</td>\n",
       "      <td>0</td>\n",
       "      <td>40</td>\n",
       "      <td>United-States</td>\n",
       "      <td>&gt;50K</td>\n",
       "    </tr>\n",
       "  </tbody>\n",
       "</table>\n",
       "<p>32561 rows × 15 columns</p>\n",
       "</div>"
      ],
      "text/plain": [
       "       age         workclass  fnlwgt         edu  edu_n        marital_stat  \\\n",
       "0       39         State-gov   77516   Bachelors     13       Never-married   \n",
       "1       50  Self-emp-not-inc   83311   Bachelors     13  Married-civ-spouse   \n",
       "2       38           Private  215646     HS-grad      9            Divorced   \n",
       "3       53           Private  234721        11th      7  Married-civ-spouse   \n",
       "4       28           Private  338409   Bachelors     13  Married-civ-spouse   \n",
       "...    ...               ...     ...         ...    ...                 ...   \n",
       "32556   27           Private  257302  Assoc-acdm     12  Married-civ-spouse   \n",
       "32557   40           Private  154374     HS-grad      9  Married-civ-spouse   \n",
       "32558   58           Private  151910     HS-grad      9             Widowed   \n",
       "32559   22           Private  201490     HS-grad      9       Never-married   \n",
       "32560   52      Self-emp-inc  287927     HS-grad      9  Married-civ-spouse   \n",
       "\n",
       "                     occ           relp   race     sex  gains  losses  \\\n",
       "0           Adm-clerical  Not-in-family  White    Male   2174       0   \n",
       "1        Exec-managerial        Husband  White    Male      0       0   \n",
       "2      Handlers-cleaners  Not-in-family  White    Male      0       0   \n",
       "3      Handlers-cleaners        Husband  Black    Male      0       0   \n",
       "4         Prof-specialty           Wife  Black  Female      0       0   \n",
       "...                  ...            ...    ...     ...    ...     ...   \n",
       "32556       Tech-support           Wife  White  Female      0       0   \n",
       "32557  Machine-op-inspct        Husband  White    Male      0       0   \n",
       "32558       Adm-clerical      Unmarried  White  Female      0       0   \n",
       "32559       Adm-clerical      Own-child  White    Male      0       0   \n",
       "32560    Exec-managerial           Wife  White  Female  15024       0   \n",
       "\n",
       "       h_per_week        country income_class  \n",
       "0              40  United-States        <=50K  \n",
       "1              13  United-States        <=50K  \n",
       "2              40  United-States        <=50K  \n",
       "3              40  United-States        <=50K  \n",
       "4              40           Cuba        <=50K  \n",
       "...           ...            ...          ...  \n",
       "32556          38  United-States        <=50K  \n",
       "32557          40  United-States         >50K  \n",
       "32558          40  United-States        <=50K  \n",
       "32559          20  United-States        <=50K  \n",
       "32560          40  United-States         >50K  \n",
       "\n",
       "[32561 rows x 15 columns]"
      ]
     },
     "execution_count": 5,
     "metadata": {},
     "output_type": "execute_result"
    }
   ],
   "source": [
    "income_data"
   ]
  },
  {
   "cell_type": "markdown",
   "metadata": {},
   "source": [
    "#### get the dtypes of the features"
   ]
  },
  {
   "cell_type": "code",
   "execution_count": 6,
   "metadata": {},
   "outputs": [
    {
     "data": {
      "text/plain": [
       "age              int64\n",
       "workclass       object\n",
       "fnlwgt           int64\n",
       "edu             object\n",
       "edu_n            int64\n",
       "marital_stat    object\n",
       "occ             object\n",
       "relp            object\n",
       "race            object\n",
       "sex             object\n",
       "gains            int64\n",
       "losses           int64\n",
       "h_per_week       int64\n",
       "country         object\n",
       "income_class    object\n",
       "dtype: object"
      ]
     },
     "execution_count": 6,
     "metadata": {},
     "output_type": "execute_result"
    }
   ],
   "source": [
    "income_data.dtypes"
   ]
  },
  {
   "cell_type": "markdown",
   "metadata": {},
   "source": [
    "#### check if 'sex' and 'income_class' are good for categorical type"
   ]
  },
  {
   "cell_type": "code",
   "execution_count": 7,
   "metadata": {},
   "outputs": [
    {
     "data": {
      "text/plain": [
       "array(['Male', 'Female'], dtype=object)"
      ]
     },
     "execution_count": 7,
     "metadata": {},
     "output_type": "execute_result"
    }
   ],
   "source": [
    "income_data.sex.unique()"
   ]
  },
  {
   "cell_type": "code",
   "execution_count": 8,
   "metadata": {
    "scrolled": true
   },
   "outputs": [
    {
     "data": {
      "text/plain": [
       "array(['<=50K', '>50K'], dtype=object)"
      ]
     },
     "execution_count": 8,
     "metadata": {},
     "output_type": "execute_result"
    }
   ],
   "source": [
    "income_data.income_class.unique()"
   ]
  },
  {
   "cell_type": "markdown",
   "metadata": {},
   "source": [
    "#### change the dtype of these features"
   ]
  },
  {
   "cell_type": "code",
   "execution_count": 9,
   "metadata": {},
   "outputs": [],
   "source": [
    "income_data.sex = pd.Categorical(income_data.sex)\n",
    "income_data.income_class = pd.Categorical(income_data.income_class)"
   ]
  },
  {
   "cell_type": "code",
   "execution_count": 10,
   "metadata": {},
   "outputs": [
    {
     "data": {
      "text/plain": [
       "age                int64\n",
       "workclass         object\n",
       "fnlwgt             int64\n",
       "edu               object\n",
       "edu_n              int64\n",
       "marital_stat      object\n",
       "occ               object\n",
       "relp              object\n",
       "race              object\n",
       "sex             category\n",
       "gains              int64\n",
       "losses             int64\n",
       "h_per_week         int64\n",
       "country           object\n",
       "income_class    category\n",
       "dtype: object"
      ]
     },
     "execution_count": 10,
     "metadata": {},
     "output_type": "execute_result"
    }
   ],
   "source": [
    "income_data.dtypes"
   ]
  },
  {
   "cell_type": "markdown",
   "metadata": {},
   "source": [
    "#### get described dataframe"
   ]
  },
  {
   "cell_type": "code",
   "execution_count": 11,
   "metadata": {},
   "outputs": [
    {
     "data": {
      "text/html": [
       "<div>\n",
       "<style scoped>\n",
       "    .dataframe tbody tr th:only-of-type {\n",
       "        vertical-align: middle;\n",
       "    }\n",
       "\n",
       "    .dataframe tbody tr th {\n",
       "        vertical-align: top;\n",
       "    }\n",
       "\n",
       "    .dataframe thead th {\n",
       "        text-align: right;\n",
       "    }\n",
       "</style>\n",
       "<table border=\"1\" class=\"dataframe\">\n",
       "  <thead>\n",
       "    <tr style=\"text-align: right;\">\n",
       "      <th></th>\n",
       "      <th>count</th>\n",
       "      <th>mean</th>\n",
       "      <th>std</th>\n",
       "      <th>min</th>\n",
       "      <th>25%</th>\n",
       "      <th>50%</th>\n",
       "      <th>75%</th>\n",
       "      <th>max</th>\n",
       "    </tr>\n",
       "  </thead>\n",
       "  <tbody>\n",
       "    <tr>\n",
       "      <th>age</th>\n",
       "      <td>32561.0</td>\n",
       "      <td>38.581647</td>\n",
       "      <td>13.640433</td>\n",
       "      <td>17.0</td>\n",
       "      <td>28.0</td>\n",
       "      <td>37.0</td>\n",
       "      <td>48.0</td>\n",
       "      <td>90.0</td>\n",
       "    </tr>\n",
       "    <tr>\n",
       "      <th>fnlwgt</th>\n",
       "      <td>32561.0</td>\n",
       "      <td>189778.366512</td>\n",
       "      <td>105549.977697</td>\n",
       "      <td>12285.0</td>\n",
       "      <td>117827.0</td>\n",
       "      <td>178356.0</td>\n",
       "      <td>237051.0</td>\n",
       "      <td>1484705.0</td>\n",
       "    </tr>\n",
       "    <tr>\n",
       "      <th>edu_n</th>\n",
       "      <td>32561.0</td>\n",
       "      <td>10.080679</td>\n",
       "      <td>2.572720</td>\n",
       "      <td>1.0</td>\n",
       "      <td>9.0</td>\n",
       "      <td>10.0</td>\n",
       "      <td>12.0</td>\n",
       "      <td>16.0</td>\n",
       "    </tr>\n",
       "    <tr>\n",
       "      <th>gains</th>\n",
       "      <td>32561.0</td>\n",
       "      <td>1077.648844</td>\n",
       "      <td>7385.292085</td>\n",
       "      <td>0.0</td>\n",
       "      <td>0.0</td>\n",
       "      <td>0.0</td>\n",
       "      <td>0.0</td>\n",
       "      <td>99999.0</td>\n",
       "    </tr>\n",
       "    <tr>\n",
       "      <th>losses</th>\n",
       "      <td>32561.0</td>\n",
       "      <td>87.303830</td>\n",
       "      <td>402.960219</td>\n",
       "      <td>0.0</td>\n",
       "      <td>0.0</td>\n",
       "      <td>0.0</td>\n",
       "      <td>0.0</td>\n",
       "      <td>4356.0</td>\n",
       "    </tr>\n",
       "    <tr>\n",
       "      <th>h_per_week</th>\n",
       "      <td>32561.0</td>\n",
       "      <td>40.437456</td>\n",
       "      <td>12.347429</td>\n",
       "      <td>1.0</td>\n",
       "      <td>40.0</td>\n",
       "      <td>40.0</td>\n",
       "      <td>45.0</td>\n",
       "      <td>99.0</td>\n",
       "    </tr>\n",
       "  </tbody>\n",
       "</table>\n",
       "</div>"
      ],
      "text/plain": [
       "              count           mean            std      min       25%  \\\n",
       "age         32561.0      38.581647      13.640433     17.0      28.0   \n",
       "fnlwgt      32561.0  189778.366512  105549.977697  12285.0  117827.0   \n",
       "edu_n       32561.0      10.080679       2.572720      1.0       9.0   \n",
       "gains       32561.0    1077.648844    7385.292085      0.0       0.0   \n",
       "losses      32561.0      87.303830     402.960219      0.0       0.0   \n",
       "h_per_week  32561.0      40.437456      12.347429      1.0      40.0   \n",
       "\n",
       "                 50%       75%        max  \n",
       "age             37.0      48.0       90.0  \n",
       "fnlwgt      178356.0  237051.0  1484705.0  \n",
       "edu_n           10.0      12.0       16.0  \n",
       "gains            0.0       0.0    99999.0  \n",
       "losses           0.0       0.0     4356.0  \n",
       "h_per_week      40.0      45.0       99.0  "
      ]
     },
     "execution_count": 11,
     "metadata": {},
     "output_type": "execute_result"
    }
   ],
   "source": [
    "income_data.describe().T"
   ]
  },
  {
   "cell_type": "code",
   "execution_count": 12,
   "metadata": {},
   "outputs": [
    {
     "name": "stdout",
     "output_type": "stream",
     "text": [
      "<class 'pandas.core.frame.DataFrame'>\n",
      "RangeIndex: 32561 entries, 0 to 32560\n",
      "Data columns (total 15 columns):\n",
      " #   Column        Non-Null Count  Dtype   \n",
      "---  ------        --------------  -----   \n",
      " 0   age           32561 non-null  int64   \n",
      " 1   workclass     32561 non-null  object  \n",
      " 2   fnlwgt        32561 non-null  int64   \n",
      " 3   edu           32561 non-null  object  \n",
      " 4   edu_n         32561 non-null  int64   \n",
      " 5   marital_stat  32561 non-null  object  \n",
      " 6   occ           32561 non-null  object  \n",
      " 7   relp          32561 non-null  object  \n",
      " 8   race          32561 non-null  object  \n",
      " 9   sex           32561 non-null  category\n",
      " 10  gains         32561 non-null  int64   \n",
      " 11  losses        32561 non-null  int64   \n",
      " 12  h_per_week    32561 non-null  int64   \n",
      " 13  country       32561 non-null  object  \n",
      " 14  income_class  32561 non-null  category\n",
      "dtypes: category(2), int64(6), object(7)\n",
      "memory usage: 3.3+ MB\n"
     ]
    }
   ],
   "source": [
    "income_data.info()"
   ]
  },
  {
   "cell_type": "code",
   "execution_count": 13,
   "metadata": {
    "deletable": false,
    "editable": false,
    "nbgrader": {
     "checksum": "6f1acd92663c630ea7be4ae6a4f4b1a3",
     "grade": true,
     "grade_id": "read-dataset-tests",
     "locked": true,
     "points": 1,
     "schema_version": 1,
     "solution": false
    }
   },
   "outputs": [],
   "source": [
    "nose.tools.assert_is_not_none(income_data)"
   ]
  },
  {
   "cell_type": "markdown",
   "metadata": {},
   "source": [
    "### Problem 2. High income (1 point)\n",
    "How many people have high income (over 50 000 USD per year)? Write a function to return the value. The function should accept the dataframe as a parameter. Work with that parameter."
   ]
  },
  {
   "cell_type": "code",
   "execution_count": 14,
   "metadata": {},
   "outputs": [],
   "source": [
    "# def get_num_people_with_high_income(dataframe):\n",
    "#     income_data_hihg_income = dataframe[dataframe.income_class  =='>50K'].count().income_class\n",
    "#     return income_data_hihg_income"
   ]
  },
  {
   "cell_type": "code",
   "execution_count": 15,
   "metadata": {
    "deletable": false,
    "nbgrader": {
     "checksum": "2e3a3eb52f23b84701cddd0c71c1a443",
     "grade": false,
     "grade_id": "high-income",
     "locked": false,
     "schema_version": 1,
     "solution": true
    }
   },
   "outputs": [],
   "source": [
    "def get_num_people_with_high_income(dataframe):\n",
    "        result = dataframe.income_class == '>50K'\n",
    "        return result.sum()"
   ]
  },
  {
   "cell_type": "code",
   "execution_count": 16,
   "metadata": {},
   "outputs": [
    {
     "name": "stdout",
     "output_type": "stream",
     "text": [
      "There are 7841 high-income people in the dataset\n"
     ]
    }
   ],
   "source": [
    "high_income_count = get_num_people_with_high_income(income_data)\n",
    "print(f'There are {high_income_count} high-income people in the dataset')"
   ]
  },
  {
   "cell_type": "code",
   "execution_count": 17,
   "metadata": {
    "deletable": false,
    "editable": false,
    "nbgrader": {
     "checksum": "e6284216dc88e4a433035553084c42ab",
     "grade": true,
     "grade_id": "high-income-tests",
     "locked": true,
     "points": 1,
     "schema_version": 1,
     "solution": false
    }
   },
   "outputs": [],
   "source": [
    "# This cell contains hidden tests"
   ]
  },
  {
   "cell_type": "markdown",
   "metadata": {},
   "source": [
    "### Problem 3. Capital gain: thresholding (1 point)\n",
    "Plot a histogram of the capital gain. You can see that there are many people with relatively low gains and a few people - with very high gains."
   ]
  },
  {
   "cell_type": "code",
   "execution_count": 18,
   "metadata": {
    "deletable": false,
    "nbgrader": {
     "checksum": "5c1843e15f32b6f2a8ba19bd9f237a43",
     "grade": false,
     "grade_id": "high-gain",
     "locked": false,
     "schema_version": 1,
     "solution": true
    }
   },
   "outputs": [
    {
     "data": {
      "image/png": "[encoded data removed]",
      "text/plain": [
       "<Figure size 504x504 with 1 Axes>"
      ]
     },
     "metadata": {},
     "output_type": "display_data"
    }
   ],
   "source": [
    "plt.figure(1, figsize=(7,7))\n",
    "plt.subplot(1, 1, 1)\n",
    "plt.hist(income_data.gains, bins=20)\n",
    "plt.title('Capial Gain')\n",
    "plt.xlabel('Gains in USD')\n",
    "plt.ylabel('People count')\n",
    "plt.xlim(0, 35*10**3)\n",
    "plt.ylim(0, 35*10**3)\n",
    "plt.xticks(range(0, 40*10**3, 5*10**3), [0 if i == 0 else f'{i}$.10^3$' for i in range(0, 40, 5)])\n",
    "plt.yticks(range(0, 40*10**3, 5*10**3), [f'{i}$.10^3$' for i in range(0, 40, 5)])\n",
    "plt.gca().yaxis.get_major_ticks()[0].label1.set_visible(False) # set y(0) to invisivle\n",
    "plt.gca().set_aspect('equal')\n",
    "plt.show()"
   ]
  },
  {
   "cell_type": "markdown",
   "metadata": {},
   "source": [
    "Write a function which accepts a dataframe and a capital gain value (in USD) and returns how many people are there with **greater than or equal to** that threshold gain."
   ]
  },
  {
   "cell_type": "code",
   "execution_count": 19,
   "metadata": {
    "deletable": false,
    "nbgrader": {
     "checksum": "1a4b91174558f18a2c8aa05349124a42",
     "grade": false,
     "grade_id": "high-gain-fn",
     "locked": false,
     "schema_version": 1,
     "solution": true
    }
   },
   "outputs": [],
   "source": [
    "# def get_num_people_with_higher_gain(dataframe, threshold_gain):\n",
    "#     return dataframe[dataframe.gains  >= threshold_gain].count().income_class"
   ]
  },
  {
   "cell_type": "code",
   "execution_count": 20,
   "metadata": {},
   "outputs": [],
   "source": [
    "def get_num_people_with_higher_gain(dataframe, threshold_gain):\n",
    "    result = dataframe.gains >= threshold_gain\n",
    "    return result.sum()"
   ]
  },
  {
   "cell_type": "markdown",
   "metadata": {},
   "source": [
    "#### test"
   ]
  },
  {
   "cell_type": "code",
   "execution_count": 21,
   "metadata": {},
   "outputs": [
    {
     "name": "stdout",
     "output_type": "stream",
     "text": [
      "159\n"
     ]
    }
   ],
   "source": [
    "print(get_num_people_with_higher_gain(income_data, 60000))"
   ]
  },
  {
   "cell_type": "code",
   "execution_count": 22,
   "metadata": {
    "deletable": false,
    "editable": false,
    "nbgrader": {
     "checksum": "f95e3ca5c5cf7af82ba098cc4505060b",
     "grade": true,
     "grade_id": "high-gain-tests",
     "locked": true,
     "points": 1,
     "schema_version": 1,
     "solution": false
    }
   },
   "outputs": [],
   "source": [
    "nose.tools.assert_equal(get_num_people_with_higher_gain(income_data, 60000), 159)"
   ]
  },
  {
   "cell_type": "markdown",
   "metadata": {},
   "source": [
    "Create a pie chart of the number of people by marital status."
   ]
  },
  {
   "cell_type": "markdown",
   "metadata": {},
   "source": [
    "#### get marital status data like dict"
   ]
  },
  {
   "cell_type": "code",
   "execution_count": 23,
   "metadata": {},
   "outputs": [
    {
     "data": {
      "text/plain": [
       "{'Divorced': 4443,\n",
       " 'Married-AF-spouse': 23,\n",
       " 'Married-civ-spouse': 14976,\n",
       " 'Married-spouse-absent': 418,\n",
       " 'Never-married': 10683,\n",
       " 'Separated': 1025,\n",
       " 'Widowed': 993}"
      ]
     },
     "execution_count": 23,
     "metadata": {},
     "output_type": "execute_result"
    }
   ],
   "source": [
    "marital_stat_data = income_data.groupby(\"marital_stat\").size().to_dict()\n",
    "marital_stat_data"
   ]
  },
  {
   "cell_type": "markdown",
   "metadata": {},
   "source": [
    "#### get values from marital status data for value array in pie chart"
   ]
  },
  {
   "cell_type": "code",
   "execution_count": 24,
   "metadata": {},
   "outputs": [
    {
     "data": {
      "text/plain": [
       "[4443, 23, 14976, 418, 10683, 1025, 993]"
      ]
     },
     "execution_count": 24,
     "metadata": {},
     "output_type": "execute_result"
    }
   ],
   "source": [
    "values = [value for value in marital_stat_data.values()]\n",
    "values"
   ]
  },
  {
   "cell_type": "markdown",
   "metadata": {},
   "source": [
    "#### get keys from marital status data for labels array in pie chart"
   ]
  },
  {
   "cell_type": "code",
   "execution_count": 25,
   "metadata": {},
   "outputs": [
    {
     "data": {
      "text/plain": [
       "['Divorced',\n",
       " 'Married-AF-spouse',\n",
       " 'Married-civ-spouse',\n",
       " 'Married-spouse-absent',\n",
       " 'Never-married',\n",
       " 'Separated',\n",
       " 'Widowed']"
      ]
     },
     "execution_count": 25,
     "metadata": {},
     "output_type": "execute_result"
    }
   ],
   "source": [
    "labels = [label for label in marital_stat_data]\n",
    "labels"
   ]
  },
  {
   "cell_type": "markdown",
   "metadata": {},
   "source": [
    "#### set explode distance betwwen pie chart bars"
   ]
  },
  {
   "cell_type": "code",
   "execution_count": 26,
   "metadata": {},
   "outputs": [],
   "source": [
    "explode = [0.02 for _ in marital_stat_data.values()]"
   ]
  },
  {
   "cell_type": "markdown",
   "metadata": {},
   "source": [
    "#### plot the result in pie chart"
   ]
  },
  {
   "cell_type": "code",
   "execution_count": 46,
   "metadata": {
    "deletable": false,
    "nbgrader": {
     "checksum": "3f7c991513f38ee3e685493f9196a269",
     "grade": false,
     "grade_id": "cell-1e91969a128f0bd6",
     "locked": false,
     "schema_version": 1,
     "solution": true
    }
   },
   "outputs": [
    {
     "data": {
      "image/png": "[encoded data removed]",
      "text/plain": [
       "<Figure size 504x504 with 1 Axes>"
      ]
     },
     "metadata": {},
     "output_type": "display_data"
    }
   ],
   "source": [
    "plt.figure(1, figsize=(7,7))\n",
    "plt.subplot(1, 1, 1)\n",
    "plt.title('Number of people by marital status')\n",
    "plt.pie(\n",
    "    x=values,\n",
    "    labels=labels,\n",
    "    autopct=lambda p: f'{p:.2f}%, {(p * sum(values) / 100):.0f} ppl',\n",
    "    pctdistance=0.6, \n",
    "    labeldistance=1.1,\n",
    "    explode=explode,\n",
    "    shadow=True,\n",
    "    startangle=0,\n",
    ")\n",
    "plt.legend(\n",
    "    [f'{label}:{value} people' for label, value in marital_stat_data.items()],\n",
    "    loc=1,\n",
    "    bbox_to_anchor=(1, 0.5, 0.9, 0.5),\n",
    ")\n",
    "plt.axis(\"equal\")\n",
    "plt.show()"
   ]
  },
  {
   "cell_type": "markdown",
   "metadata": {},
   "source": [
    "### Problem 4. Marital status (2 points)\n",
    "Which type of marital status is the most prominent (i.e. has the most people)? How many are there? Write a function that **calculates and returns the two answers**. "
   ]
  },
  {
   "cell_type": "markdown",
   "metadata": {},
   "source": [
    "#### solution with python iteration"
   ]
  },
  {
   "cell_type": "code",
   "execution_count": 28,
   "metadata": {},
   "outputs": [],
   "source": [
    "# def most_prominent_marital_status(dataframe):\n",
    "#     status = ''\n",
    "#     num_people = 0\n",
    "#     status, num_people = max(marital_stat_data.items(), key = lambda x: x[1])\n",
    "#     return status, num_people"
   ]
  },
  {
   "cell_type": "markdown",
   "metadata": {},
   "source": [
    "#### solution using other column to keep the count result"
   ]
  },
  {
   "cell_type": "code",
   "execution_count": 29,
   "metadata": {},
   "outputs": [],
   "source": [
    "# def most_prominent_marital_status(dataframe):\n",
    "#     status = \"\"\n",
    "#     num_people = 0\n",
    "#     all_statuses = dataframe.loc[:, [\"marital_stat\", \"age\"]].groupby(by=[\"marital_stat\"], as_index=False).count()\n",
    "#     all_statuses_highest = all_statuses.sort_values('age', ascending=False)\n",
    "#     status = all_statuses_highest.iloc[0]['marital_stat']\n",
    "#     num_people = all_statuses_highest.iloc[0]['age']\n",
    "#     return (status, num_people)"
   ]
  },
  {
   "cell_type": "markdown",
   "metadata": {},
   "source": [
    "#### solution with new df"
   ]
  },
  {
   "cell_type": "code",
   "execution_count": 30,
   "metadata": {
    "deletable": false,
    "nbgrader": {
     "checksum": "e9966cb2920b04c4df332da313f4e508",
     "grade": false,
     "grade_id": "cell-5c9a472102a7b452",
     "locked": false,
     "schema_version": 1,
     "solution": true
    }
   },
   "outputs": [],
   "source": [
    "def most_prominent_marital_status(dataframe):\n",
    "    status = \"\"\n",
    "    num_people = 0\n",
    "    marital_stat_data = dataframe.groupby(\"marital_stat\").size().to_dict()\n",
    "    new_df = pd.DataFrame(\n",
    "        data=list(marital_stat_data.items()),\n",
    "        index=[i for i in range(len(marital_stat_data))],\n",
    "        columns=['stat_name', 'counts']\n",
    "    )\n",
    "    sorted_new_df = new_df.sort_values('counts', ascending=False)\n",
    "    status, num_people = sorted_new_df.iloc[0]\n",
    "    return status, num_people"
   ]
  },
  {
   "cell_type": "markdown",
   "metadata": {},
   "source": [
    "#### test"
   ]
  },
  {
   "cell_type": "code",
   "execution_count": 31,
   "metadata": {},
   "outputs": [
    {
     "name": "stdout",
     "output_type": "stream",
     "text": [
      "('Married-civ-spouse', 14976)\n"
     ]
    }
   ],
   "source": [
    "print(most_prominent_marital_status(income_data))"
   ]
  },
  {
   "cell_type": "code",
   "execution_count": 32,
   "metadata": {
    "deletable": false,
    "editable": false,
    "nbgrader": {
     "checksum": "a2ef87117dcbc8db2d43cf9e9883c695",
     "grade": true,
     "grade_id": "cell-0077a3c8d4339ad7",
     "locked": true,
     "points": 2,
     "schema_version": 1,
     "solution": false
    }
   },
   "outputs": [],
   "source": [
    "(status, num_people) = most_prominent_marital_status(income_data)\n",
    "nose.tools.assert_not_equal(status, \"\")\n",
    "nose.tools.assert_greater(num_people, 10000)"
   ]
  },
  {
   "cell_type": "markdown",
   "metadata": {},
   "source": [
    "### Problem 5. Age groups (1 point)\n",
    "Create a histogram of all people's ages. Use the default settings. Add the label \"Age\" on the x-axis and \"Count\" on the y-axis."
   ]
  },
  {
   "cell_type": "code",
   "execution_count": 33,
   "metadata": {
    "deletable": false,
    "nbgrader": {
     "checksum": "60c6510ffb115c08ab7fed3b29a27465",
     "grade": false,
     "grade_id": "cell-3ba52bf669280861",
     "locked": false,
     "schema_version": 1,
     "solution": true
    }
   },
   "outputs": [
    {
     "data": {
      "image/png": "[encoded data removed]",
      "text/plain": [
       "<Figure size 504x504 with 1 Axes>"
      ]
     },
     "metadata": {},
     "output_type": "display_data"
    }
   ],
   "source": [
    "plt.figure(1, figsize=(7,7))\n",
    "plt.subplot(1, 1, 1)\n",
    "plt.hist(income_data.age)\n",
    "plt.title(\"People's ages\")\n",
    "plt.xlabel('Age')\n",
    "plt.ylabel('Count')\n",
    "plt.show()"
   ]
  },
  {
   "cell_type": "markdown",
   "metadata": {},
   "source": [
    "Let's get another view of the data. Split the ages into three:\n",
    "1. Young people: $\\text{age} \\le 30$\n",
    "2. Middle-aged people: $30 < \\text{age} \\le 60$\n",
    "3. Old people: $60 < \\text{age}$\n",
    "\n",
    "Return the counts in the following function. Which age group has the most people? How many are there?"
   ]
  },
  {
   "cell_type": "code",
   "execution_count": 34,
   "metadata": {
    "deletable": false,
    "nbgrader": {
     "checksum": "03420d0fea2b98e57aa98b9b5f483b86",
     "grade": false,
     "grade_id": "cell-b8a6cda122bf0fb3",
     "locked": false,
     "schema_version": 1,
     "solution": true
    }
   },
   "outputs": [],
   "source": [
    "def get_num_people_by_age_category(dataframe):\n",
    "    young, middle_aged, old = (0, 0, 0)\n",
    "    young = dataframe[dataframe.age<=30].age.count()\n",
    "    middle_aged = dataframe[(dataframe.age>30) & (dataframe.age<=60)].age.count()\n",
    "    old = dataframe[dataframe.age>60].age.count()\n",
    "    return young, middle_aged, old"
   ]
  },
  {
   "cell_type": "markdown",
   "metadata": {},
   "source": [
    "#### test"
   ]
  },
  {
   "cell_type": "code",
   "execution_count": 35,
   "metadata": {},
   "outputs": [
    {
     "name": "stdout",
     "output_type": "stream",
     "text": [
      "(10572, 19657, 2332)\n"
     ]
    }
   ],
   "source": [
    "print(get_num_people_by_age_category(income_data))"
   ]
  },
  {
   "cell_type": "code",
   "execution_count": 36,
   "metadata": {
    "deletable": false,
    "editable": false,
    "nbgrader": {
     "checksum": "79117a39e1c6066eece95309ce45dc81",
     "grade": true,
     "grade_id": "cell-17898d5f42dd42d5",
     "locked": true,
     "points": 1,
     "schema_version": 1,
     "solution": false
    }
   },
   "outputs": [],
   "source": [
    "young, middle_aged, old = get_num_people_by_age_category(income_data)\n",
    "nose.tools.assert_greater(young, 0)\n",
    "nose.tools.assert_greater(middle_aged, 0)\n",
    "nose.tools.assert_greater(old, 0)"
   ]
  },
  {
   "cell_type": "markdown",
   "metadata": {},
   "source": [
    "Now we can create a bar chart. Execute the code below to see it."
   ]
  },
  {
   "cell_type": "code",
   "execution_count": 37,
   "metadata": {},
   "outputs": [
    {
     "data": {
      "image/png": "[encoded data removed]",
      "text/plain": [
       "<Figure size 432x288 with 1 Axes>"
      ]
     },
     "metadata": {},
     "output_type": "display_data"
    }
   ],
   "source": [
    "plt.title(\"Distribution of people by age groups\")\n",
    "plt.bar(range(3), [young, middle_aged, old])\n",
    "plt.xticks(range(3), [\"Young\", \"Middle-aged\", \"Old\"])\n",
    "plt.ylabel(\"Count\")\n",
    "plt.show()"
   ]
  },
  {
   "cell_type": "markdown",
   "metadata": {},
   "source": [
    "### Problem 6. Native country (2 points)\n",
    "Have a look at the native country of the people. The highest number of people are, as expected, from the US. What country makes for **the second highest** number of people? How many are they? Write a function to **calculate** and return the answer given a dataframe. DO NOT hardcode the answer, e.g. `return \"Germany\"`."
   ]
  },
  {
   "cell_type": "markdown",
   "metadata": {},
   "source": [
    "#### solution with new df"
   ]
  },
  {
   "cell_type": "code",
   "execution_count": 38,
   "metadata": {},
   "outputs": [],
   "source": [
    "# def get_second_highest_num_people(dataframe):\n",
    "#     num_people, country = 0, \"\"\n",
    "#     country_data = income_data.country.value_counts()\n",
    "#     new_df = pd.DataFrame(\n",
    "#         data=country_data,\n",
    "#     )\n",
    "#     new_df.reset_index(level=0, inplace=True)\n",
    "#     new_df.columns = ['country', 'counts']\n",
    "#     country, num_people  = new_df.iloc[1]\n",
    "#     return num_people, country"
   ]
  },
  {
   "cell_type": "markdown",
   "metadata": {},
   "source": [
    "#### solution only with Series"
   ]
  },
  {
   "cell_type": "code",
   "execution_count": 39,
   "metadata": {
    "deletable": false,
    "nbgrader": {
     "checksum": "f48b741de66aedff2d878c5bcaf010cf",
     "grade": false,
     "grade_id": "cell-96faf6efe52dd3d0",
     "locked": false,
     "schema_version": 1,
     "solution": true
    }
   },
   "outputs": [],
   "source": [
    "def get_second_highest_num_people(dataframe):\n",
    "    num_people, country = 0, \"\"\n",
    "    country_data = income_data.country.value_counts()\n",
    "    country = country_data.index[1]\n",
    "    num_people = country_data.values[1]\n",
    "    return num_people, country"
   ]
  },
  {
   "cell_type": "markdown",
   "metadata": {},
   "source": [
    "#### test"
   ]
  },
  {
   "cell_type": "code",
   "execution_count": 40,
   "metadata": {},
   "outputs": [
    {
     "name": "stdout",
     "output_type": "stream",
     "text": [
      "(643, 'Mexico')\n"
     ]
    }
   ],
   "source": [
    "print(get_second_highest_num_people(income_data))"
   ]
  },
  {
   "cell_type": "code",
   "execution_count": 41,
   "metadata": {
    "deletable": false,
    "editable": false,
    "nbgrader": {
     "checksum": "d5981b1108063667383480f69588bdf6",
     "grade": true,
     "grade_id": "cell-923d941301d6acc8",
     "locked": true,
     "points": 2,
     "schema_version": 1,
     "solution": false
    }
   },
   "outputs": [],
   "source": [
    "num_people, country = get_second_highest_num_people(income_data)\n",
    "nose.tools.assert_greater(num_people, 0)\n",
    "nose.tools.assert_not_equal(country, \"\")"
   ]
  },
  {
   "cell_type": "markdown",
   "metadata": {},
   "source": [
    "### Problem 7. Busiest occupations (2 points)\n",
    "Which people are most overworked? Group all data by occupation and calculate the mean hours per week for each group.\n",
    "\n",
    "Write a function that **calculates and returns** all mean hours per week as a `Series`. Sort the results in descending order (most hours to fewest hours)."
   ]
  },
  {
   "cell_type": "code",
   "execution_count": 42,
   "metadata": {
    "deletable": false,
    "nbgrader": {
     "checksum": "8800a118285464a703ef223c058dc869",
     "grade": false,
     "grade_id": "cell-f93bf9800cb3bc46",
     "locked": false,
     "schema_version": 1,
     "solution": true
    }
   },
   "outputs": [],
   "source": [
    "def get_mean_working_hours_by_income(dataframe):\n",
    "    result = dataframe.groupby(['occ']).h_per_week.mean().sort_values(ascending=False).round(2)\n",
    "    return result"
   ]
  },
  {
   "cell_type": "code",
   "execution_count": 43,
   "metadata": {
    "deletable": false,
    "editable": false,
    "nbgrader": {
     "checksum": "95d5a2c122057fb62658d0d3602436bc",
     "grade": true,
     "grade_id": "cell-69cd7b7f6076b0ed",
     "locked": true,
     "points": 2,
     "schema_version": 1,
     "solution": false
    }
   },
   "outputs": [
    {
     "name": "stdout",
     "output_type": "stream",
     "text": [
      "occ\n",
      "Farming-fishing      46.99\n",
      "Exec-managerial      44.99\n",
      "Transport-moving     44.66\n",
      "Protective-serv      42.87\n",
      "Prof-specialty       42.39\n",
      "Craft-repair         42.30\n",
      "Sales                40.78\n",
      "Machine-op-inspct    40.76\n",
      "Armed-Forces         40.67\n",
      "Tech-support         39.43\n",
      "Handlers-cleaners    37.95\n",
      "Adm-clerical         37.56\n",
      "Other-service        34.70\n",
      "Priv-house-serv      32.89\n",
      "?                    31.91\n",
      "Name: h_per_week, dtype: float64\n"
     ]
    }
   ],
   "source": [
    "hours = get_mean_working_hours_by_income(income_data)\n",
    "print(hours)\n",
    "nose.tools.assert_almost_equal(hours[\"Handlers-cleaners\"], 37.95, delta = 0.01)"
   ]
  },
  {
   "cell_type": "markdown",
   "metadata": {},
   "source": [
    "Finally, let's plot a bar chart. Check the values carefully. If your do not match, feel free to edit the chart generation code below."
   ]
  },
  {
   "cell_type": "code",
   "execution_count": 44,
   "metadata": {},
   "outputs": [
    {
     "data": {
      "image/png": "[encoded data removed]",
      "text/plain": [
       "<Figure size 720x432 with 1 Axes>"
      ]
     },
     "metadata": {},
     "output_type": "display_data"
    }
   ],
   "source": [
    "plt.figure(figsize = (10, 6))\n",
    "plt.title(\"Weekly hours by occupation\")\n",
    "plt.barh(range(len(hours)), hours)\n",
    "plt.yticks(list(range(len(hours))), hours.index)\n",
    "plt.show()"
   ]
  }
 ],
 "metadata": {
  "kernelspec": {
   "display_name": "Python 3",
   "language": "python",
   "name": "python3"
  },
  "language_info": {
   "codemirror_mode": {
    "name": "ipython",
    "version": 3
   },
   "file_extension": ".py",
   "mimetype": "text/x-python",
   "name": "python",
   "nbconvert_exporter": "python",
   "pygments_lexer": "ipython3",
   "version": "3.8.10"
  }
 },
 "nbformat": 4,
 "nbformat_minor": 2
}
